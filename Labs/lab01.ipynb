{
 "cells": [
  {
   "cell_type": "markdown",
   "id": "473907d9-6f7e-449c-bfd3-1c84513bf0fa",
   "metadata": {},
   "source": [
    "# EOAS 5004 Lab 1"
   ]
  },
  {
   "cell_type": "markdown",
   "id": "71532114-aad4-4509-b2e9-511e4721bf74",
   "metadata": {
    "tags": []
   },
   "source": [
    "## Introduction\n",
    "----\n",
    "\n",
    "### What is Jupyter?\n",
    "\n",
    "We are using the [Jupyter](https://jupyter.org) software to interact with the computer and run examples written in [Python](https://www.python.org) programming language. Jupyter includes a set of tools which may seem confusing at the first glance. We are accessing the remote computer using JupyterHub. \n",
    "* JupyterHub is a software running on the cloud (in our case a remote workstation) that provides a multi-user interface for JupyterLab and Jupyter Notebook so that we can all share the computational resource of a remote computer. \n",
    "* JupyterLab is a web-based interactive development environment for notebooks, code, and data. The interface we see when logging in the JupyterHub is an instance of JupyterLab on the remote computer. We can run JupyterLab on our own computer as well. [Here](https://jupyterlab.readthedocs.io/en/stable/user/interface.html) is an introduction of the JupyterLab interface. \n",
    "* Jupyter Notebook is the original web application for creating and sharing computational documents in Jupyter. It provides a web interface that focus on a single notebook file. We are not using this interface -- we are using JupyterLab instead. Here in this class when we talk about a Jupyter notebook we simply refer to the notebook file (`.ipynb` file).\n",
    "\n",
    "### What is Python\n",
    "\n",
    "[Python](https://www.python.org) is a general purpose programming language like [Matlab](https://www.mathworks.com/products/matlab.html). By _general purpose_ it means that you can use it to do computation, manipulate and analyze data, make figures and animations to visualize the data, even interact with your operating system, and many more. Here is this class we are primarily using it to do some simple calculation, data manipulation and visualization. \n",
    "\n",
    "Python is an interpreted and interactive language, which means that, unlike C or Fortran, we don't need to compile to code and the syntax is much more user-friendly. The trade-off is that pure Python code is much slower than C and Fortran to execute. But many packages includes precompiled libraries that is fast enough. And tools exist to accelerate Python code for scientific computing such as [Numba](https://numba.pydata.org). \n",
    "\n",
    "Python includes a set of built-in functions that you can use directly such as `print()`. But most of the time we will be using functions from a variety of packages that make Python powerful. To load a package, we need to import it first. For example, to use the function `sin()` in the package `numpy`, we need to do the following.\n",
    "```\n",
    "import numpy\n",
    "\n",
    "numpy.sin(1.0)\n",
    "```\n",
    "We can give a package an alias (a shorter name) so that we don't need to type in the package name every time we use a function in it. For example, we can do the following.\n",
    "```\n",
    "import numpy as np\n",
    "\n",
    "np.sin(1.0)\n",
    "```\n",
    "Alternatively, we can import the function from a package so that we can use the function directly. For example,\n",
    "```\n",
    "from numpy import sin\n",
    "sin(1.0)\n",
    "```\n",
    "does the same this. We can even import all the functions in a package by using the wild card `*`. \n",
    "```\n",
    "from numpy import *\n",
    "sin(1.0)\n",
    "```\n",
    "But this is not recommended as other packages may also include a function that has the same name. Importing two functions with the same name from different packages may cause conflict and is hard to keep track on which function is used. So a good practice is to use alias for the package name and be explicit on the package that the function is defined. This is different from Matlab where the verison of the function first found in the path is used.\n",
    "\n",
    "### What is markdown\n",
    "\n",
    "We use markdown to creating formatted text to document code in Jupyter notebooks. This block of text is written in markdown. [Here](https://www.markdownguide.org/basic-syntax) is a guide on the basic syntax.\n",
    "\n",
    "### Useful commands in the terminal (under Unix-like operating system)\n",
    "\n",
    "* Navigate to a folder using `cd [FOLDER PATH]`. To navigate to the parent folder, use `cd ..`.\n",
    "* List the files in the folder using `ls`. To see more information about he files and folders in a folder, add argument `-al` to `ls`. That is, `ls -al`.\n",
    "* Make a new folder using `mkdir [FOLDER NAME]`. For example, create a folder named \"test\": `mkdir test`\n",
    "* Show the path of the current folder using `pwd`.\n",
    "* Get help information about a command using `man`. For example, see the manual of `ls` using `man ls`"
   ]
  },
  {
   "cell_type": "markdown",
   "id": "00f3a8c7-fec3-46f6-8f8d-9372e309e4f2",
   "metadata": {},
   "source": [
    "## What you just did\n",
    "----\n",
    "\n",
    "### Connect to the JupyterHub\n",
    "\n",
    "To use JupyterHub, visit https://10.30.11.217 in your browser. Please ignore the security warning and proceed to visit the site (you may need to type in \"thisisunsafe\" if you are using Chrome). Then you should see the login window. Use your username and initial password to log in.\n",
    "\n",
    "### Change your password in the terminal\n",
    "\n",
    "Open a terminal window in JupyterHub. Use the following command to change your password.\n",
    "```\n",
    "passwd\n",
    "```\n",
    "You will need to type in your current password, which is the initial password provided to you, and then your new password. Later you will use your username and your new password to log in the JupyterHub.\n",
    "\n",
    "### Checkout the course materials using Git\n",
    "\n",
    "Open a terminal window in JupyterHub. Navigate to the scratch space (a larger hard drive than your home space). Here `~` is a shortcut of the path of your home folder.\n",
    "```\n",
    "cd ~/scratch\n",
    "```\n",
    "\n",
    "Using git to create a copy of the course material from GitHub.\n",
    "```\n",
    "git clone https://github.com/qingli411/EOAS5004_EarthSystemModeling.git\n",
    "```\n",
    "\n",
    "[Here](https://earth-env-data-science.github.io/lectures/environment/intro_to_git.html) is a brief introduction to git for version control.\n"
   ]
  },
  {
   "cell_type": "markdown",
   "id": "d96fb862-3e05-4ff4-817e-a64792ae0937",
   "metadata": {},
   "source": [
    "## Practice on data manipulation in Python\n",
    "----"
   ]
  },
  {
   "cell_type": "markdown",
   "id": "929f76da-4f6d-4ec2-a5d1-c0ce69e2bbc5",
   "metadata": {},
   "source": [
    "### Download the data\n",
    "\n",
    "We download the gridded monthly surface air temperature climatology data from [NCEP-NCAR Reanalysis 1](https://psl.noaa.gov/data/gridded/data.ncep.reanalysis.html). This is long-term monthly mean of the air temperature at 2~m height on a global 1.9 by 1.9 degrees grid, derived from year 1981 to 2010. A climate reanalysis combines past observational data with numerical model simulations to generate consistent time series of climate variables, in our case the surface air temperature.\n",
    "\n",
    "**Reference**\n",
    "\n",
    "Kalnay et al.,The NCEP/NCAR 40-year reanalysis project, Bull. Amer. Meteor. Soc., 77, 437-470, 1996"
   ]
  },
  {
   "cell_type": "code",
   "execution_count": null,
   "id": "78f6c801-7841-4d8b-98c8-ce011b226aa6",
   "metadata": {},
   "outputs": [],
   "source": [
    "import os\n",
    "import urllib.request"
   ]
  },
  {
   "cell_type": "code",
   "execution_count": null,
   "id": "25eda42d-2567-4d11-88ce-9591a290a1b3",
   "metadata": {},
   "outputs": [],
   "source": [
    "filename = 'air.2m.mon.ltm.1981-2010.nc'\n",
    "if not os.path.isfile(filename):\n",
    "    url = 'https://downloads.psl.noaa.gov//Datasets/ncep.reanalysis/Monthlies/surface_gauss/'+filename\n",
    "    urllib.request.urlretrieve(url, filename)"
   ]
  },
  {
   "cell_type": "markdown",
   "id": "7026dad2-42e0-405f-bca0-219cafe7fa61",
   "metadata": {},
   "source": [
    "The data is saved in [netCDF](https://www.unidata.ucar.edu/software/netcdf/) format. This is the data format commonly used in climate science. In addition to the actual data values, it also contains the dimensions and coordinates of the data array and other useful information in the attributes. Below is a image from [http://xarray.pydata.org/en/stable/user-guide/data-structures.html](http://xarray.pydata.org/en/stable/user-guide/data-structures.html) that illustrates the structure of the data that is commonly used in climate science.\n",
    "\n",
    "![](https://docs.xarray.dev/en/stable/_images/dataset-diagram.png)\n",
    "\n",
    "Read more about other common data format in Earth Sciences [here](https://earth-env-data-science.github.io/lectures/data.html)."
   ]
  },
  {
   "cell_type": "markdown",
   "id": "634552a1-15ad-4e39-a9f5-02b089439528",
   "metadata": {},
   "source": [
    "### Visualize the data\n",
    "\n",
    "Here we use a powerful Python package [xarray](https://docs.xarray.dev/en/stable/) to open, manipulate, and visualize the netCDF data."
   ]
  },
  {
   "cell_type": "code",
   "execution_count": null,
   "id": "e47e8c89-0f44-45ad-a3de-a0ad41a7813e",
   "metadata": {},
   "outputs": [],
   "source": [
    "import xarray as xr\n",
    "ds = xr.open_dataset(filename, decode_times=False)"
   ]
  },
  {
   "cell_type": "markdown",
   "id": "c88c3e31-a36c-4c1a-b779-3a0629c76246",
   "metadata": {},
   "source": [
    "Take a look at the data structure."
   ]
  },
  {
   "cell_type": "code",
   "execution_count": null,
   "id": "11940f49-75dd-40ed-b337-89f0b2246c45",
   "metadata": {},
   "outputs": [],
   "source": [
    "ds"
   ]
  },
  {
   "cell_type": "markdown",
   "id": "c5ab7da8-f97f-40f3-8bcb-b34b8dd18836",
   "metadata": {},
   "source": [
    "Plot the annual mean surface air temperature."
   ]
  },
  {
   "cell_type": "code",
   "execution_count": null,
   "id": "7cbc0715-642a-45e6-a452-a721655b3ef8",
   "metadata": {},
   "outputs": [],
   "source": [
    "Ts = ds.data_vars['air'] - 273.15 # K -> degC\n",
    "meanTs = Ts.mean(dim='time')\n",
    "meanTs.plot()"
   ]
  },
  {
   "cell_type": "markdown",
   "id": "62aa631c-6cca-4eaa-9d40-90291c4e9adf",
   "metadata": {},
   "source": [
    "**Questions**: \n",
    "1. Can you explain the variation of surface air temperature with the latitude?\n",
    "2. Can you see the signature of land and ocean on the surface temperature? Is the surface temperature higher or lower over land compared to that over the ocean at the same latitude? Why?"
   ]
  },
  {
   "cell_type": "markdown",
   "id": "d896e3c1-37a4-4f9b-ad8b-1cc5daf10427",
   "metadata": {},
   "source": [
    "Let's make the figure prettier by projecting it onto a map."
   ]
  },
  {
   "cell_type": "code",
   "execution_count": null,
   "id": "9962b923-713d-40aa-b083-4b3022677f6c",
   "metadata": {},
   "outputs": [],
   "source": [
    "import cartopy.crs as ccrs\n",
    "import matplotlib.pyplot as plt"
   ]
  },
  {
   "cell_type": "code",
   "execution_count": null,
   "id": "90644ec3-511a-4129-9627-aba60a306572",
   "metadata": {},
   "outputs": [],
   "source": [
    "lat = ds.lat\n",
    "lon = ds.lon\n",
    "fig = plt.figure(figsize=(8,4))\n",
    "\n",
    "ax = fig.add_subplot(1,1,1, projection=ccrs.Robinson())\n",
    "cax = ax.pcolormesh(lon, lat, meanTs, cmap='RdBu_r' , transform=ccrs.PlateCarree())\n",
    "cbar = plt.colorbar(cax)\n",
    "ax.set_title('Annual mean surface temperature ($^\\circ$C)', fontsize=14 )\n",
    "ax.coastlines()"
   ]
  },
  {
   "cell_type": "markdown",
   "id": "a133957a-9581-4c9f-abd8-c821675dbd8d",
   "metadata": {},
   "source": [
    "### Global mean surface air temperature: Weighted versus unweighted mean "
   ]
  },
  {
   "cell_type": "markdown",
   "id": "fb6cf05e-90f4-452d-9383-b37c1760fe00",
   "metadata": {},
   "source": [
    "Let's first compute the unweighted global mean surface air temperature by simply averaging over the longitude and latitude."
   ]
  },
  {
   "cell_type": "code",
   "execution_count": null,
   "id": "ff789de9-6777-4b63-850c-d857ec3496ec",
   "metadata": {},
   "outputs": [],
   "source": [
    "gmTs = meanTs.mean((\"lon\", \"lat\"))\n",
    "gmTs"
   ]
  },
  {
   "cell_type": "markdown",
   "id": "61f047b2-6a68-4af8-84e5-08c2e700a30a",
   "metadata": {},
   "source": [
    "**Questions**\n",
    "\n",
    "1. Is this consistent with what you expected? What happend?\n",
    "2. Why do we need a weighted mean? What do you think should be the weight?"
   ]
  },
  {
   "cell_type": "markdown",
   "id": "42bcea37-816c-4b32-8ad8-4f257c5f0868",
   "metadata": {},
   "source": [
    "Now we compute the area weighted global mean surface air temperature. We can create the weight according to the area of grid cells. For a regular longitude-latitude grid like this one, the cosine of the latitude is proportional to the grid cell area."
   ]
  },
  {
   "cell_type": "code",
   "execution_count": null,
   "id": "0833b14a-5a4c-4db5-9f4d-0e354c4d8433",
   "metadata": {},
   "outputs": [],
   "source": [
    "import numpy as np\n",
    "weights = np.cos(np.deg2rad(lat))\n",
    "weights.name = \"weights\"\n",
    "weights"
   ]
  },
  {
   "cell_type": "code",
   "execution_count": null,
   "id": "0e1bb766-b8cd-49d9-ab94-38797c8e9430",
   "metadata": {},
   "outputs": [],
   "source": [
    "meanTs_weighted = meanTs.weighted(weights)\n",
    "meanTs_weighted"
   ]
  },
  {
   "cell_type": "code",
   "execution_count": null,
   "id": "5c96bf28-edb8-4ddb-9083-9fdcd2678a91",
   "metadata": {},
   "outputs": [],
   "source": [
    "gmTs_weighted = meanTs_weighted.mean((\"lon\", \"lat\"))\n",
    "gmTs_weighted"
   ]
  },
  {
   "cell_type": "markdown",
   "id": "f930c7b9-11f3-422b-bb37-927dc44e2644",
   "metadata": {},
   "source": [
    "### Longwave radiation assuming the Earth surface is a black body\n",
    "\n",
    "As we mentiond in the lecture, every object emits longwave radiation that is related to its temperature. For an idealized black body, the emitted longwave radiation can be computed from the [Stefan–Boltzmann law](https://en.wikipedia.org/wiki/Stefan–Boltzmann_law),\n",
    "$$\n",
    "R_o = \\sigma T_s^4,\n",
    "$$\n",
    "where $\\sigma \\approx 5.67\\times 10^{−8}$ W m$^{-2}$ K$^{−4}$ is the [Stefan–Boltzmann constant](https://en.wikipedia.org/wiki/Stefan–Boltzmann_constant)."
   ]
  },
  {
   "cell_type": "markdown",
   "id": "e14f1563-52d2-4749-b0f8-c5083f2da1d0",
   "metadata": {},
   "source": [
    "Now we compute the longwave radiation. Note that we need to convert the unit of temperature from degree Celsius to Kelvin (0 $^\\circ$C = 273.15 K)."
   ]
  },
  {
   "cell_type": "code",
   "execution_count": null,
   "id": "e9aa073d-8ad6-42eb-8381-81be470ecb80",
   "metadata": {},
   "outputs": [],
   "source": [
    "sigma = 5.67e-8\n",
    "Ro = sigma * (gmTs_weighted+273.15)**4\n",
    "Ro"
   ]
  },
  {
   "cell_type": "markdown",
   "id": "3bc56823-993b-4112-a77f-f23a42c4ab9d",
   "metadata": {},
   "source": [
    "### Radiative temperature at the top of the atmosphere"
   ]
  },
  {
   "cell_type": "markdown",
   "id": "309cb4bb-bb72-4302-93bf-d07fd3f64bdf",
   "metadata": {},
   "source": [
    "We download the gridded monthly clear sky upward longwave flux at the top of the atmosphere climatology data from the same [NCEP-NCAR Reanalysis 1](https://psl.noaa.gov/data/gridded/data.ncep.reanalysis.html). Again, this is long-term monthly mean on a global 1.9 by 1.9 degrees grid, derived from year 1981 to 2010.\n",
    "\n",
    "We are looking at the longwave radiation at the top of the atmosphere (not at the surface of the Earth) because this represents the outgoing longwave radiation that Earth emits to the space."
   ]
  },
  {
   "cell_type": "code",
   "execution_count": null,
   "id": "68582f46-64da-4716-8f8e-82541ec03c77",
   "metadata": {},
   "outputs": [],
   "source": [
    "filename2 = 'csulf.ntat.mon.ltm.nc'\n",
    "if not os.path.isfile(filename2):\n",
    "    url = 'https://downloads.psl.noaa.gov//Datasets/ncep.reanalysis/Monthlies/other_gauss/'+filename2\n",
    "    urllib.request.urlretrieve(url, filename2)"
   ]
  },
  {
   "cell_type": "code",
   "execution_count": null,
   "id": "ba43410b-0b74-4a7e-b116-18480b5cd151",
   "metadata": {},
   "outputs": [],
   "source": [
    "ds2 = xr.open_dataset(filename2, decode_times=False)\n",
    "ds2"
   ]
  },
  {
   "cell_type": "markdown",
   "id": "4a25d246-de1a-4f4e-80c1-06ad43f34120",
   "metadata": {},
   "source": [
    "Again, take a quick look at the annual mean."
   ]
  },
  {
   "cell_type": "code",
   "execution_count": null,
   "id": "46950a53-01ab-4e23-a8d9-4a7ed98c4ab5",
   "metadata": {},
   "outputs": [],
   "source": [
    "Rt = ds2.data_vars['csulf']\n",
    "meanRt = Rt.mean(dim='time')\n",
    "meanRt.plot()"
   ]
  },
  {
   "cell_type": "code",
   "execution_count": null,
   "id": "9fdcec37-6d91-4df8-bd36-69e8cc1c6d93",
   "metadata": {},
   "outputs": [],
   "source": [
    "fig = plt.figure(figsize=(8,4))\n",
    "\n",
    "ax = fig.add_subplot(1,1,1, projection=ccrs.Robinson())\n",
    "cax = ax.pcolormesh(lon, lat, meanRt, cmap='RdBu_r' , transform=ccrs.PlateCarree())\n",
    "cbar = plt.colorbar(cax)\n",
    "ax.set_title('Annual mean longwave radiation (TOA; W m$^{-2}$)', fontsize=14 )\n",
    "ax.coastlines()"
   ]
  },
  {
   "cell_type": "markdown",
   "id": "873e04ed-2f4f-458b-944c-404f8fd0bb21",
   "metadata": {},
   "source": [
    "### Global mean longwave radiation at the top of the atmosphere\n",
    "\n",
    "Compute the area weighted global mean longwave radiation at the top of the atmosphere."
   ]
  },
  {
   "cell_type": "code",
   "execution_count": null,
   "id": "c51d3228-3ede-4898-acf3-2f1f9c5dde42",
   "metadata": {},
   "outputs": [],
   "source": []
  }
 ],
 "metadata": {
  "kernelspec": {
   "display_name": "EOAS 5004",
   "language": "python",
   "name": "eoas5004"
  },
  "language_info": {
   "codemirror_mode": {
    "name": "ipython",
    "version": 3
   },
   "file_extension": ".py",
   "mimetype": "text/x-python",
   "name": "python",
   "nbconvert_exporter": "python",
   "pygments_lexer": "ipython3",
   "version": "3.9.15"
  }
 },
 "nbformat": 4,
 "nbformat_minor": 5
}
